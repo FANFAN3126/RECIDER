{
 "cells": [
  {
   "cell_type": "code",
   "execution_count": 14,
   "id": "6f73d735",
   "metadata": {},
   "outputs": [
    {
     "data": {
      "text/html": [
       "<div>\n",
       "<style scoped>\n",
       "    .dataframe tbody tr th:only-of-type {\n",
       "        vertical-align: middle;\n",
       "    }\n",
       "\n",
       "    .dataframe tbody tr th {\n",
       "        vertical-align: top;\n",
       "    }\n",
       "\n",
       "    .dataframe thead th {\n",
       "        text-align: right;\n",
       "    }\n",
       "</style>\n",
       "<table border=\"1\" class=\"dataframe\">\n",
       "  <thead>\n",
       "    <tr style=\"text-align: right;\">\n",
       "      <th></th>\n",
       "      <th>Title</th>\n",
       "      <th>Ingredients</th>\n",
       "      <th>Steps</th>\n",
       "    </tr>\n",
       "  </thead>\n",
       "  <tbody>\n",
       "    <tr>\n",
       "      <th>0</th>\n",
       "      <td>Ayam Woku Manado</td>\n",
       "      <td>1 Ekor Ayam Kampung (potong 12)--2 Buah Jeruk ...</td>\n",
       "      <td>Cuci bersih ayam dan tiriskan. Lalu peras jeru...</td>\n",
       "    </tr>\n",
       "    <tr>\n",
       "      <th>1</th>\n",
       "      <td>Ayam goreng tulang lunak</td>\n",
       "      <td>1 kg ayam (dipotong sesuai selera jangan kecil...</td>\n",
       "      <td>Haluskan bumbu2nya (BaPut, ketumbar, kemiri, k...</td>\n",
       "    </tr>\n",
       "    <tr>\n",
       "      <th>2</th>\n",
       "      <td>Ayam cabai kawin</td>\n",
       "      <td>1/4 kg ayam--3 buah cabai hijau besar--7 buah ...</td>\n",
       "      <td>Panaskan minyak di dalam wajan. Setelah minyak...</td>\n",
       "    </tr>\n",
       "    <tr>\n",
       "      <th>3</th>\n",
       "      <td>Ayam Geprek</td>\n",
       "      <td>250 gr daging ayam (saya pakai fillet)--Secuku...</td>\n",
       "      <td>Goreng ayam seperti ayam krispi--Ulek semua ba...</td>\n",
       "    </tr>\n",
       "    <tr>\n",
       "      <th>4</th>\n",
       "      <td>Minyak Ayam</td>\n",
       "      <td>400 gr kulit ayam &amp; lemaknya--8 siung bawang p...</td>\n",
       "      <td>Cuci bersih kulit ayam. Sisihkan--Ambil 50 ml ...</td>\n",
       "    </tr>\n",
       "    <tr>\n",
       "      <th>...</th>\n",
       "      <td>...</td>\n",
       "      <td>...</td>\n",
       "      <td>...</td>\n",
       "    </tr>\n",
       "    <tr>\n",
       "      <th>315</th>\n",
       "      <td>Perkedel Udang</td>\n",
       "      <td>1 kg kentang--3 telur ayam--Udang kupas sisaka...</td>\n",
       "      <td>Kupas kentang, goreng, lumatkan--Tambahkan tel...</td>\n",
       "    </tr>\n",
       "    <tr>\n",
       "      <th>316</th>\n",
       "      <td>Tumis tempe, udang,ati ampela</td>\n",
       "      <td>1/4 udang--4 papan tempe uk kecil--2 pasang at...</td>\n",
       "      <td>Cincang cabe rawit, bawang putih, bawang merah...</td>\n",
       "    </tr>\n",
       "    <tr>\n",
       "      <th>317</th>\n",
       "      <td>Sambel udang pete</td>\n",
       "      <td>250 gr Udang Kupas (Belah Punggung udang)--100...</td>\n",
       "      <td>Haluskan Bumbu menjadi halus dengan mengunakan...</td>\n",
       "    </tr>\n",
       "    <tr>\n",
       "      <th>318</th>\n",
       "      <td>Cah udang dan kol</td>\n",
       "      <td>500 gram kol ukuran kecil, belah dua bagian--2...</td>\n",
       "      <td>Siapkan kol, rebus sebentar angkat tiriskan da...</td>\n",
       "    </tr>\n",
       "    <tr>\n",
       "      <th>319</th>\n",
       "      <td>Tumis Udang saos tiram pedas</td>\n",
       "      <td>100 g udang--1 sdm perasan air jeruk lemon/nip...</td>\n",
       "      <td>Buang kepala udang, kulit sisakan ekornya kera...</td>\n",
       "    </tr>\n",
       "  </tbody>\n",
       "</table>\n",
       "<p>320 rows × 3 columns</p>\n",
       "</div>"
      ],
      "text/plain": [
       "                             Title  \\\n",
       "0                 Ayam Woku Manado   \n",
       "1         Ayam goreng tulang lunak   \n",
       "2                 Ayam cabai kawin   \n",
       "3                      Ayam Geprek   \n",
       "4                      Minyak Ayam   \n",
       "..                             ...   \n",
       "315                 Perkedel Udang   \n",
       "316  Tumis tempe, udang,ati ampela   \n",
       "317              Sambel udang pete   \n",
       "318              Cah udang dan kol   \n",
       "319   Tumis Udang saos tiram pedas   \n",
       "\n",
       "                                           Ingredients  \\\n",
       "0    1 Ekor Ayam Kampung (potong 12)--2 Buah Jeruk ...   \n",
       "1    1 kg ayam (dipotong sesuai selera jangan kecil...   \n",
       "2    1/4 kg ayam--3 buah cabai hijau besar--7 buah ...   \n",
       "3    250 gr daging ayam (saya pakai fillet)--Secuku...   \n",
       "4    400 gr kulit ayam & lemaknya--8 siung bawang p...   \n",
       "..                                                 ...   \n",
       "315  1 kg kentang--3 telur ayam--Udang kupas sisaka...   \n",
       "316  1/4 udang--4 papan tempe uk kecil--2 pasang at...   \n",
       "317  250 gr Udang Kupas (Belah Punggung udang)--100...   \n",
       "318  500 gram kol ukuran kecil, belah dua bagian--2...   \n",
       "319  100 g udang--1 sdm perasan air jeruk lemon/nip...   \n",
       "\n",
       "                                                 Steps  \n",
       "0    Cuci bersih ayam dan tiriskan. Lalu peras jeru...  \n",
       "1    Haluskan bumbu2nya (BaPut, ketumbar, kemiri, k...  \n",
       "2    Panaskan minyak di dalam wajan. Setelah minyak...  \n",
       "3    Goreng ayam seperti ayam krispi--Ulek semua ba...  \n",
       "4    Cuci bersih kulit ayam. Sisihkan--Ambil 50 ml ...  \n",
       "..                                                 ...  \n",
       "315  Kupas kentang, goreng, lumatkan--Tambahkan tel...  \n",
       "316  Cincang cabe rawit, bawang putih, bawang merah...  \n",
       "317  Haluskan Bumbu menjadi halus dengan mengunakan...  \n",
       "318  Siapkan kol, rebus sebentar angkat tiriskan da...  \n",
       "319  Buang kepala udang, kulit sisakan ekornya kera...  \n",
       "\n",
       "[320 rows x 3 columns]"
      ]
     },
     "execution_count": 14,
     "metadata": {},
     "output_type": "execute_result"
    }
   ],
   "source": [
    "import pandas as pd\n",
    "from sklearn.neighbors import NearestNeighbors\n",
    "from sklearn.feature_extraction.text import TfidfVectorizer\n",
    "from sklearn.pipeline import make_pipeline\n",
    "\n",
    "# Import Dataset\n",
    "df = pd.read_csv(r'D:\\Downloads\\recido.csv')\n",
    "df"
   ]
  },
  {
   "cell_type": "code",
   "execution_count": 15,
   "id": "13407d62",
   "metadata": {},
   "outputs": [],
   "source": [
    "# Ekstrak kolom-kolom yang diperlukan\n",
    "titles = df['Title'].tolist()\n",
    "ingredients = df['Ingredients'].tolist()\n",
    "steps = df['Steps'].tolist()\n",
    "\n",
    "# Gabungkan title dan ingredients sebagai satu teks\n",
    "combined_text = [f\"{title} {ingredients}\" for title, ingredients in zip(titles, ingredients)]"
   ]
  },
  {
   "cell_type": "code",
   "execution_count": 16,
   "id": "501ca249",
   "metadata": {},
   "outputs": [
    {
     "data": {
      "text/plain": [
       "NearestNeighbors(algorithm='brute', metric='cosine')"
      ]
     },
     "execution_count": 16,
     "metadata": {},
     "output_type": "execute_result"
    }
   ],
   "source": [
    "# Buat model KNN\n",
    "vectorizer = TfidfVectorizer()\n",
    "tfidf_matrix = vectorizer.fit_transform(combined_text)\n",
    "model = NearestNeighbors(n_neighbors=5, algorithm='brute', metric='cosine')\n",
    "model.fit(tfidf_matrix)"
   ]
  },
  {
   "cell_type": "code",
   "execution_count": 17,
   "id": "1afedcf0",
   "metadata": {},
   "outputs": [],
   "source": [
    "# Contoh input pengguna\n",
    "user_input_title = \"Ayam\"\n",
    "user_input_ingredients = \"Ayam\"\n",
    "\n",
    "# Transform input pengguna ke dalam format yang sama dengan dataset\n",
    "user_input = vectorizer.transform([f\"{user_input_title} {user_input_ingredients}\"])\n",
    "\n",
    "# Prediksi resep terdekat berdasarkan input pengguna\n",
    "distances, indices = model.kneighbors(user_input)"
   ]
  },
  {
   "cell_type": "code",
   "execution_count": 18,
   "id": "57be9411",
   "metadata": {},
   "outputs": [
    {
     "name": "stdout",
     "output_type": "stream",
     "text": [
      "Resep Makanan Rekomendasi:\n",
      "Title: Ayam goreng krutuk\n",
      "Ingredients: tepung terigu--Air matang--ayam (yg sudah direbus sebelumnya)--Garam--Gula/penyedap--Lada bubuk--1 butir telur ayam--Minyak goreng--\n",
      "Steps: Campur tepung terigu(kurang lebih 1/2 mangkuk kecil) dengan garam,gula/penyedap dan garam secukupnya. Tambahkan air matang sedikit demi sedikit hingga agak mengental. Koreksi rasa--Balur ayam yg telah direbus sebelumnya dengan 1 butir telur (yg sudah dikocok lepas), kemudian gulingkan dalam adonan tepung, sisihkan--Panaskan minyak goreng dengan api sedang, jika sudah panas masukan ayam yg sudah diberi adonan tepung, kecilkan api lalu masak hingga berwarna kecoklatan dan garing, angkat dan tiriskan.--Selamat menikmati 😀--\n",
      "\n",
      "Title: Nugget Ayam Wortel\n",
      "Ingredients: 250 gram daging ayam giling--1 buah wortel ukuran sedang--1/2 buah bawang bombay--2-3 siung bawang putih--3 batang daun bawang--2 butir telur ayam--100 gram tepung terigu (kurang lebih)--secukupnya Tepung roti--secukupnya Garam--secukupnya Lada--secukupnya Penyedap rasa ayam--Minyak goreng--\n",
      "Steps: Potong-potong bawang bombay dan bawang putih. Tumis dengan sedikit minyak hingga harum. Angkat--Campurkan tumisan bawang dengan daging ayam giling dengan menggunakan blender atau food processor. Campur hingga bawang halus & tercampur rata. Tuang pada wadah yg telah disediakan untuk dicampur dengan bahan lain--Potong wortel jadi bagian yg kecil. Masukkan pada campuran daging giling sebelumnya--Potong daun bawang jadi bagian yg kecil. Masukkan pada adonan. Campur hingga rata--Masukkan 1 butir telur ayam. Campurkan--Masukkan tepung terigu perlahan-lahan dan campur hingga rata. Masukkan garam,lada dan penyedap rasa secukupnya.--Panaskan kukusan--Letakkan adonan pada cetakan yg telah disediakan. Masukkan pada kukusan yg telah dipanaskan sebelumnya. Tutup kukusan diberi kain agar air tidak menetes diadonan. Kukus kurang lebih 25-30 menit--Angkat adonan yg sudah matang dari kukusan. Biarkan agar sedikit dingin.--Setelah dingin potong-potong sesuai ukuran yg diinginkan.--Kocok lepas 1 butir telur ayam. Celupkan adonan nugget yg telah dipotong tadi kedalam telur. Kemudian gulingkan di tepung roti.--Ulangi langkah 11 hingga adonan nugget habis--Dinginkan pada freezer kurang lebih 1 jam agar tepung roti menempel dengan sempurna--Goreng nugget dengan minyak panas. Nugget ayam wortel siap disajikan.--Nugget yg masuk ke dalam freezer dapat bertahan maksimal 3-4 minggu--\n",
      "\n",
      "Title: Ayam goreng tepung\n",
      "Ingredients: 150 gr fillet ayam--5 sdm tepung bumbu serbaguna--1 butir telur ayam (kocok lepas)--Garam sck--Minya goreng secukupnya untuk menggoreng--\n",
      "Steps: Cuci ayam, tiriskan beri perasan jeruk lemon (skip boleh) Potong ayam bentuk dadu.--Koco telur beri secukupnya garam. Masukkan ayam yg telah dipotong dadu.--Balurkan ke dalam tepung serbaguna.--Goreng pada minyak yg panas.--Siap disantap😘😘😘😘--\n",
      "\n",
      "Title: Bali kecap telur ayam\n",
      "Ingredients: ayam--telur--tempe--#bumbu:--cabe merah--bawang merah putih--jahe--laos--daun jeruk--gula merah--kemiri--kecap manis--garam--\n",
      "Steps: Cuci bersih ayam lalu rebus dan goreng. rebus telur buang kulit dan goreng--Haluskan smua bumbu--Panaakan sedikit minyak--Tumis bumbu hingga harum--Masukkan laos jahe dan daun jeruk--Tambah sedikit air dan kecap manis--Ending--\n",
      "\n",
      "Title: Telor dadar endol\n",
      "Ingredients: 1 buah telur ayam--Daging ayam cincang--Stgh sdt terigu--Daun bawang--\n",
      "Steps: Cincang daging ayam,iris daun bawang--Satukan bahan,tambah garam dan sasa--Kocok dan goreng--\n",
      "\n"
     ]
    }
   ],
   "source": [
    "# Tampilkan rekomendasi resep\n",
    "print(\"Resep Makanan Rekomendasi:\")\n",
    "for index in indices[0]:\n",
    "    print(f\"Title: {titles[index]}\\nIngredients: {ingredients[index]}\\nSteps: {steps[index]}\\n\")"
   ]
  },
  {
   "cell_type": "code",
   "execution_count": null,
   "id": "f59166f9",
   "metadata": {},
   "outputs": [],
   "source": []
  }
 ],
 "metadata": {
  "kernelspec": {
   "display_name": "Python 3 (ipykernel)",
   "language": "python",
   "name": "python3"
  },
  "language_info": {
   "codemirror_mode": {
    "name": "ipython",
    "version": 3
   },
   "file_extension": ".py",
   "mimetype": "text/x-python",
   "name": "python",
   "nbconvert_exporter": "python",
   "pygments_lexer": "ipython3",
   "version": "3.9.13"
  }
 },
 "nbformat": 4,
 "nbformat_minor": 5
}
